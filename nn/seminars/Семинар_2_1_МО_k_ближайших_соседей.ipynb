{
  "nbformat": 4,
  "nbformat_minor": 0,
  "metadata": {
    "colab": {
      "name": "Seminar2.1-knn_mnist.ipynb",
      "provenance": []
    },
    "kernelspec": {
      "name": "python3",
      "display_name": "Python 3"
    }
  },
  "cells": [
    {
      "cell_type": "markdown",
      "metadata": {
        "id": "qzzySik_MvD4"
      },
      "source": [
        "# Метод k ближайших соседей\n",
        "(из спец курса \"Введение в компьютерный интеллект. Машинное обучение\" механико-математического факультета МГУ)"
      ]
    },
    {
      "cell_type": "code",
      "metadata": {
        "id": "ty__1C7E-gsF"
      },
      "source": [
        "import numpy as np\n",
        "from keras.datasets import mnist\n",
        "import matplotlib.pyplot as plt"
      ],
      "execution_count": 1,
      "outputs": []
    },
    {
      "cell_type": "code",
      "metadata": {
        "id": "c25B_ZtX_loO",
        "outputId": "a8087a91-531d-41d4-de66-eb1fc975e793",
        "colab": {
          "base_uri": "https://localhost:8080/",
          "height": 34
        }
      },
      "source": [
        "(train_x, train_y), (test_x, test_y) = mnist.load_data()\n",
        "print((train_x.shape, train_y.shape, test_x.shape, test_y.shape))"
      ],
      "execution_count": 2,
      "outputs": [
        {
          "output_type": "stream",
          "text": [
            "((60000, 28, 28), (60000,), (10000, 28, 28), (10000,))\n"
          ],
          "name": "stdout"
        }
      ]
    },
    {
      "cell_type": "code",
      "metadata": {
        "id": "661xar5sAQMz",
        "outputId": "31b1a9cb-22e9-470c-89e8-a270d022aec8",
        "colab": {
          "base_uri": "https://localhost:8080/",
          "height": 282
        }
      },
      "source": [
        "index = 3457\n",
        "print('label is %d' % train_y[index])\n",
        "plt.imshow(train_x[index])\n",
        "plt.show()"
      ],
      "execution_count": 3,
      "outputs": [
        {
          "output_type": "stream",
          "text": [
            "label is 4\n"
          ],
          "name": "stdout"
        },
        {
          "output_type": "display_data",
          "data": {
            "image/png": "[encoded data removed]",
            "text/plain": [
              "<Figure size 432x288 with 1 Axes>"
            ]
          },
          "metadata": {
            "tags": [],
            "needs_background": "light"
          }
        }
      ]
    },
    {
      "cell_type": "code",
      "metadata": {
        "id": "bHU_aE_xAn-B",
        "outputId": "71dc8224-e36f-44f0-8482-07df9d638f5c",
        "colab": {
          "base_uri": "https://localhost:8080/",
          "height": 34
        }
      },
      "source": [
        "train_x_1 = train_x.reshape(len(train_x),-1)\n",
        "test_x_1 = test_x.reshape(len(test_x),-1)\n",
        "print(train_x_1.shape, test_x_1.shape)"
      ],
      "execution_count": 4,
      "outputs": [
        {
          "output_type": "stream",
          "text": [
            "(60000, 784) (10000, 784)\n"
          ],
          "name": "stdout"
        }
      ]
    },
    {
      "cell_type": "markdown",
      "metadata": {
        "id": "FTLplP2oR0Bx"
      },
      "source": [
        "# Фиктивный классификатор"
      ]
    },
    {
      "cell_type": "code",
      "metadata": {
        "id": "zo7rnq3nBnvV"
      },
      "source": [
        "class DummyClassifier(object):\n",
        "  def _init_(self):\n",
        "    self.name='Dummy'\n",
        "  def fit(self, train_x, train_y):\n",
        "    pass\n",
        "  def predict(self, test_x):\n",
        "    return np.random.randint(low=0, high=10, size=len(test_x))"
      ],
      "execution_count": 5,
      "outputs": []
    },
    {
      "cell_type": "code",
      "metadata": {
        "id": "Li4s-U-rTKU3"
      },
      "source": [
        "classifier = DummyClassifier()\n",
        "classifier.fit(train_x_1, train_y)\n",
        "pred = classifier.predict(test_x_1) "
      ],
      "execution_count": 6,
      "outputs": []
    },
    {
      "cell_type": "code",
      "metadata": {
        "id": "ojkNm73eTf2y"
      },
      "source": [
        "def accuracy(pred, gt):\n",
        "  return np.sum(pred == gt)/len(gt)"
      ],
      "execution_count": 14,
      "outputs": []
    },
    {
      "cell_type": "code",
      "metadata": {
        "id": "Bu0xeUjET38Z",
        "outputId": "77b56a60-101f-4870-fe3f-df17b2dbc85f",
        "colab": {
          "base_uri": "https://localhost:8080/",
          "height": 181
        }
      },
      "source": [
        "acc = accuracy(pred, test_y)\n",
        "print(acc)"
      ],
      "execution_count": 7,
      "outputs": [
        {
          "output_type": "error",
          "ename": "NameError",
          "evalue": "ignored",
          "traceback": [
            "\u001b[0;31m---------------------------------------------------------------------------\u001b[0m",
            "\u001b[0;31mNameError\u001b[0m                                 Traceback (most recent call last)",
            "\u001b[0;32m<ipython-input-7-813ca5d52b27>\u001b[0m in \u001b[0;36m<module>\u001b[0;34m()\u001b[0m\n\u001b[0;32m----> 1\u001b[0;31m \u001b[0macc\u001b[0m \u001b[0;34m=\u001b[0m \u001b[0maccuracy\u001b[0m\u001b[0;34m(\u001b[0m\u001b[0mpred\u001b[0m\u001b[0;34m,\u001b[0m \u001b[0mtest_y\u001b[0m\u001b[0;34m)\u001b[0m\u001b[0;34m\u001b[0m\u001b[0;34m\u001b[0m\u001b[0m\n\u001b[0m\u001b[1;32m      2\u001b[0m \u001b[0mprint\u001b[0m\u001b[0;34m(\u001b[0m\u001b[0macc\u001b[0m\u001b[0;34m)\u001b[0m\u001b[0;34m\u001b[0m\u001b[0;34m\u001b[0m\u001b[0m\n",
            "\u001b[0;31mNameError\u001b[0m: name 'accuracy' is not defined"
          ]
        }
      ]
    },
    {
      "cell_type": "code",
      "metadata": {
        "id": "JQoY_dlHULoO"
      },
      "source": [
        "from sklearn.metrics import accuracy_score"
      ],
      "execution_count": 8,
      "outputs": []
    },
    {
      "cell_type": "code",
      "metadata": {
        "id": "coClbh88URKz",
        "outputId": "90f9de0e-162f-478e-f3c9-5de920bcacd2",
        "colab": {
          "base_uri": "https://localhost:8080/",
          "height": 34
        }
      },
      "source": [
        "accuracy_score(pred, test_y)"
      ],
      "execution_count": 9,
      "outputs": [
        {
          "output_type": "execute_result",
          "data": {
            "text/plain": [
              "0.1032"
            ]
          },
          "metadata": {
            "tags": []
          },
          "execution_count": 9
        }
      ]
    },
    {
      "cell_type": "markdown",
      "metadata": {
        "id": "GMqGberJUBht"
      },
      "source": [
        "# k-ближайших соседей"
      ]
    },
    {
      "cell_type": "code",
      "metadata": {
        "id": "77fR72GFT9QL"
      },
      "source": [
        "from sklearn.neighbors import KNeighborsClassifier as knn"
      ],
      "execution_count": 10,
      "outputs": []
    },
    {
      "cell_type": "code",
      "metadata": {
        "id": "ZRSFBweoUiOE",
        "outputId": "5098545f-e57c-449b-b99b-29b9aa13a433",
        "colab": {
          "base_uri": "https://localhost:8080/",
          "height": 102
        }
      },
      "source": [
        "result=[]\n",
        "for k in range(1,10, 2):\n",
        "  classifier = knn(n_neighbors=k)\n",
        "  classifier.fit(train_x_1[:1000], train_y[:1000])\n",
        "  pred = classifier.predict(test_x_1[:100])\n",
        "  acc = accuracy_score(pred, test_y[:100])\n",
        "  result.append(acc)\n",
        "  print(k, acc)"
      ],
      "execution_count": 11,
      "outputs": [
        {
          "output_type": "stream",
          "text": [
            "1 0.83\n",
            "3 0.83\n",
            "5 0.84\n",
            "7 0.81\n",
            "9 0.82\n"
          ],
          "name": "stdout"
        }
      ]
    },
    {
      "cell_type": "code",
      "metadata": {
        "id": "J9lWg5hKUhq5",
        "outputId": "31c666f1-46fd-45a7-84c0-b71100232510",
        "colab": {
          "base_uri": "https://localhost:8080/",
          "height": 102
        }
      },
      "source": [
        "result=[]\n",
        "for k in range(1,10, 2):\n",
        "  classifier = knn(n_neighbors=k)\n",
        "  classifier.fit(train_x_1[:2000], train_y[:2000])\n",
        "  pred = classifier.predict(test_x_1[:100])\n",
        "  acc = accuracy_score(pred, test_y[:100])\n",
        "  result.append(acc)\n",
        "  print(k, acc)"
      ],
      "execution_count": 12,
      "outputs": [
        {
          "output_type": "stream",
          "text": [
            "1 0.86\n",
            "3 0.9\n",
            "5 0.9\n",
            "7 0.89\n",
            "9 0.9\n"
          ],
          "name": "stdout"
        }
      ]
    },
    {
      "cell_type": "code",
      "metadata": {
        "id": "xhbY4-EmVvay",
        "outputId": "94e3c4b7-b196-4322-9b93-904147b424d7",
        "colab": {
          "base_uri": "https://localhost:8080/",
          "height": 102
        }
      },
      "source": [
        "result=[]\n",
        "for k in range(1,10, 2):\n",
        "  classifier = knn(n_neighbors=k)\n",
        "  classifier.fit(train_x_1[:5000], train_y[:5000])\n",
        "  pred = classifier.predict(test_x_1[:100])\n",
        "  acc = accuracy_score(pred, test_y[:100])\n",
        "  result.append(acc)\n",
        "  print(k, acc)"
      ],
      "execution_count": 13,
      "outputs": [
        {
          "output_type": "stream",
          "text": [
            "1 0.9\n",
            "3 0.94\n",
            "5 0.95\n",
            "7 0.95\n",
            "9 0.95\n"
          ],
          "name": "stdout"
        }
      ]
    },
    {
      "cell_type": "code",
      "metadata": {
        "id": "J0sOgpxcWRYU",
        "outputId": "9596ac0b-2b94-41ac-bafc-5f3ccd1e72bd",
        "colab": {
          "base_uri": "https://localhost:8080/",
          "height": 34
        }
      },
      "source": [
        "k=5\n",
        "classifier = knn(n_neighbors=k)\n",
        "classifier.fit(train_x_1, train_y)\n",
        "pred = classifier.predict(test_x_1[:100])\n",
        "acc = accuracy_score(pred, test_y[:100])\n",
        "print(k, acc)"
      ],
      "execution_count": 29,
      "outputs": [
        {
          "output_type": "stream",
          "text": [
            "5 0.99\n"
          ],
          "name": "stdout"
        }
      ]
    },
    {
      "cell_type": "code",
      "metadata": {
        "id": "os_7ssGEWnkz"
      },
      "source": [
        "k=5\n",
        "classifier = knn(n_neighbors=k)\n",
        "classifier.fit(train_x_1, train_y)\n",
        "pred = classifier.predict(test_x_1)\n",
        "acc = accuracy_score(pred, test_y)\n",
        "print(k, acc)"
      ],
      "execution_count": null,
      "outputs": []
    },
    {
      "cell_type": "code",
      "metadata": {
        "id": "4DmeMHsRW3tW"
      },
      "source": [
        "from sklearn.cluster import KMeans"
      ],
      "execution_count": 14,
      "outputs": []
    },
    {
      "cell_type": "code",
      "metadata": {
        "id": "SMYWNRp1Zzj9",
        "outputId": "fac7be9b-f39c-4d71-ad7f-d12e6d0c1281",
        "colab": {
          "base_uri": "https://localhost:8080/",
          "height": 68
        }
      },
      "source": [
        "km = KMeans(n_clusters=20)\n",
        "km.fit(train_x_1[:10000])"
      ],
      "execution_count": 16,
      "outputs": [
        {
          "output_type": "execute_result",
          "data": {
            "text/plain": [
              "KMeans(algorithm='auto', copy_x=True, init='k-means++', max_iter=300,\n",
              "       n_clusters=20, n_init=10, n_jobs=None, precompute_distances='auto',\n",
              "       random_state=None, tol=0.0001, verbose=0)"
            ]
          },
          "metadata": {
            "tags": []
          },
          "execution_count": 16
        }
      ]
    },
    {
      "cell_type": "code",
      "metadata": {
        "id": "chVrXtJ1Z-Dz",
        "outputId": "102355bc-c37d-4b7c-d7c2-78eaad4e11fc",
        "colab": {
          "base_uri": "https://localhost:8080/",
          "height": 265
        }
      },
      "source": [
        "for cluster in km.cluster_centers_:\n",
        "  plt.imshow(cluster.reshape(28,28))\n",
        "  plt.show"
      ],
      "execution_count": 17,
      "outputs": [
        {
          "output_type": "display_data",
          "data": {
            "image/png": "[encoded data removed]",
            "text/plain": [
              "<Figure size 432x288 with 1 Axes>"
            ]
          },
          "metadata": {
            "tags": [],
            "needs_background": "light"
          }
        }
      ]
    },
    {
      "cell_type": "code",
      "metadata": {
        "id": "1CKfDttwaTL6"
      },
      "source": [
        ""
      ],
      "execution_count": null,
      "outputs": []
    }
  ]
}