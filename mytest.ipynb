{
 "nbformat": 4,
 "nbformat_minor": 2,
 "metadata": {
  "language_info": {
   "name": "python",
   "codemirror_mode": {
    "name": "ipython",
    "version": 3
   },
   "version": "3.8.2-final"
  },
  "orig_nbformat": 2,
  "file_extension": ".py",
  "mimetype": "text/x-python",
  "name": "python",
  "npconvert_exporter": "python",
  "pygments_lexer": "ipython3",
  "version": 3,
  "kernelspec": {
   "name": "python38264bitvenvvenva59c77f774c742709291988c98f1cd7f",
   "display_name": "Python 3.8.2 64-bit ('venv': venv)"
  }
 },
 "cells": [
  {
   "cell_type": "code",
   "execution_count": 3,
   "metadata": {},
   "outputs": [],
   "source": [
    "import numpy"
   ]
  },
  {
   "cell_type": "code",
   "execution_count": 42,
   "metadata": {},
   "outputs": [],
   "source": [
    "class TrainIterator(object):\n",
    "    '''Класс итератора для работы с обучающими данными. \n",
    "    \n",
    "    Параметры\n",
    "    ----------\n",
    "    X : двумерный массив признаков размера n_samples x n_features\n",
    "    y : массив/список правильных значений размера n_samples\n",
    "    n_epoch : количество эпох обучения (default = 1)\n",
    "    batch_size : размер пакета для шага SGD (default = 16)\n",
    "    '''    \n",
    "    def __init__(self, X, y, n_epoch=1, batch_size=16):\n",
    "        self.X = numpy.array(X)\n",
    "        self.y = numpy.array(y)\n",
    "        self.n_epoch = n_epoch\n",
    "        self.batch_size = batch_size\n",
    "        self.n = (X.shape[0] * n_epoch) // batch_size\n",
    "        self.cnt = -1\n",
    "    \n",
    "    def __iter__(self):\n",
    "        '''Нужно для использования итератора в цикле for\n",
    "        Здесь ничего менять не надо\n",
    "        '''\n",
    "        return self\n",
    "\n",
    "    def __next__(self):\n",
    "        '''Выдача следующего батча.\n",
    "        \n",
    "        Выход\n",
    "        -------\n",
    "        Метод возвращает очередной батч как из X, так и из y\n",
    "        '''\n",
    "        self.cnt += 1\n",
    "        if self.cnt < self.n:\n",
    "            i = self.cnt * self.batch_size - (self.X.shape[0] * ((self.cnt * self.batch_size) // self.X.shape[0]))\n",
    "            j = i + self.batch_size\n",
    "            k = j - self.X.shape[0] if j > self.X.shape[0] else -self.X.shape[0]\n",
    "            return numpy.append(self.X[i:j], self.X[:k], axis=0)\n",
    "        else:\n",
    "            raise StopIteration"
   ]
  },
  {
   "cell_type": "code",
   "execution_count": 43,
   "metadata": {},
   "outputs": [
    {
     "output_type": "stream",
     "name": "stdout",
     "text": "[[40 15 72]\n [22 43 82]\n [75  7 34]\n [49 95 75]\n [85 47 63]]\n\n[31 90 20 37 39 67  4 42 51 38]\n\n[]\n\n[[40 15 72]\n [22 43 82]\n [85 47 63]]\n"
    }
   ],
   "source": [
    "numpy.random.seed(2)\n",
    "X = numpy.random.randint(100, size=(5, 3))\n",
    "y = numpy.random.randint(100, size=10)\n",
    "print(X)\n",
    "print()\n",
    "print(y)\n",
    "print()\n",
    "print(X[:-8])\n",
    "print()\n",
    "print(numpy.append(X[0:2], X[4:7], axis=0))\n",
    ""
   ]
  },
  {
   "cell_type": "code",
   "execution_count": 44,
   "metadata": {},
   "outputs": [
    {
     "output_type": "stream",
     "name": "stdout",
     "text": "[[40 15 72]\n [22 43 82]]\n[[75  7 34]\n [49 95 75]]\n[[85 47 63]\n [40 15 72]]\n[[22 43 82]\n [75  7 34]]\n[[49 95 75]\n [85 47 63]]\n"
    }
   ],
   "source": [
    "iterator = TrainIterator(X, y, n_epoch=2, batch_size=2)\n",
    "for a in iterator:\n",
    "    print(a)"
   ]
  }
 ]
}