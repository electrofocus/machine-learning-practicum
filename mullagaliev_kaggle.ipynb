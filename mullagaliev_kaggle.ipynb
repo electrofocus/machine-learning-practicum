{
 "cells": [
  {
   "cell_type": "markdown",
   "metadata": {},
   "source": [
    "# Machine learning [Kaggle](https://www.kaggle.com/c/python2020springtashkent/leaderboard) competition"
   ]
  },
  {
   "cell_type": "code",
   "execution_count": null,
   "metadata": {},
   "outputs": [],
   "source": [
    "import pandas as pd\n",
    "\n",
    "from sklearn.preprocessing import PolynomialFeatures\n",
    "from sklearn.model_selection import cross_val_score\n",
    "from sklearn.model_selection import RandomizedSearchCV\n",
    "\n",
    "from scipy.stats import uniform"
   ]
  },
  {
   "cell_type": "markdown",
   "metadata": {},
   "source": [
    "### Getting competition data"
   ]
  },
  {
   "cell_type": "code",
   "execution_count": 49,
   "metadata": {},
   "outputs": [],
   "source": [
    "X_train = pd.read_csv(\"notebook_data/competition_input/testX.csv\", index_col = 'Id').to_numpy()\n",
    "Y_train = pd.read_csv(\"notebook_data/competition_input/trainY.csv\", index_col = 'Id').Value.to_numpy()\n",
    "X_test = pd.read_csv(\"notebook_data/competition_input/testX.csv\", index_col = 'Id').to_numpy()"
   ]
  },
  {
   "cell_type": "markdown",
   "metadata": {},
   "source": [
    "### PolynomialFeatures definition"
   ]
  },
  {
   "cell_type": "code",
   "execution_count": null,
   "metadata": {},
   "outputs": [],
   "source": [
    "poly = PolynomialFeatures(2)"
   ]
  },
  {
   "cell_type": "markdown",
   "metadata": {},
   "source": [
    "### LinearRegression\n",
    "Kaggle public test score: 0.43746 👇"
   ]
  },
  {
   "cell_type": "code",
   "execution_count": null,
   "metadata": {},
   "outputs": [],
   "source": [
    "from sklearn.linear_model import LinearRegression\n",
    "\n",
    "X = poly.fit_transform(X_train)\n",
    "testX = poly.fit_transform(X_test)\n",
    "\n",
    "linear = LinearRegression()\n",
    "linear.fit(X, Y_train)\n",
    "y_pred = linear.predict(testX).reshape(2000,)\n",
    "\n",
    "print(cross_val_score(linear, X, Y_train, cv=5).mean())\n",
    "y_pred"
   ]
  },
  {
   "cell_type": "markdown",
   "metadata": {},
   "source": [
    "### AdaBoostRegressor\n",
    "Kaggle public test score: 0.45256 👇"
   ]
  },
  {
   "cell_type": "code",
   "execution_count": null,
   "metadata": {},
   "outputs": [],
   "source": [
    "from sklearn.ensemble import AdaBoostRegressor\n",
    "\n",
    "X = poly.fit_transform(X_train)\n",
    "testX = poly.fit_transform(X_test)\n",
    "\n",
    "adaboost = AdaBoostRegressor(random_state=1, n_estimators=10)\n",
    "adaboost.fit(X, Y_train)\n",
    "y_pred = adaboost.predict(testX).reshape(2000,)\n",
    "\n",
    "print(cross_val_score(adaboost, X, Y_train, cv=5).mean())\n",
    "y_pred"
   ]
  },
  {
   "cell_type": "markdown",
   "metadata": {},
   "source": [
    "### GradientBoostingRegressor\n",
    "Kaggle public test score: 0.54379 👇"
   ]
  },
  {
   "cell_type": "code",
   "execution_count": null,
   "metadata": {},
   "outputs": [],
   "source": [
    "from sklearn.ensemble import GradientBoostingRegressor\n",
    "\n",
    "X = poly.fit_transform(X_train)\n",
    "testX = poly.fit_transform(X_test)\n",
    "\n",
    "gbr = GradientBoostingRegressor(\n",
    "    **{\n",
    "        'n_estimators': 500,\n",
    "        'max_depth': 4,\n",
    "        'min_samples_split': 5,\n",
    "        'learning_rate': 0.01,\n",
    "        'loss': 'ls'\n",
    "    }\n",
    ")\n",
    "gbr.fit(X, Y_train)\n",
    "y_pred = gbr.predict(testX).reshape(2000,)\n",
    "\n",
    "print(\"Cross validation mean score:\", cross_val_score(gbr, X, Y_train, cv=5).mean())\n",
    "y_pred"
   ]
  },
  {
   "cell_type": "markdown",
   "metadata": {},
   "source": [
    "### PassiveAggressiveRegressor\n",
    "Kaggle public test score: 0.64698 👇"
   ]
  },
  {
   "cell_type": "code",
   "execution_count": null,
   "metadata": {},
   "outputs": [],
   "source": [
    "from sklearn.linear_model import PassiveAggressiveRegressor\n",
    "\n",
    "X = poly.fit_transform(X_train)\n",
    "testX = poly.fit_transform(X_test)\n",
    "\n",
    "passive_aggressive = PassiveAggressiveRegressor(max_iter=100, random_state=0)\n",
    "passive_aggressive.fit(X, Y_train)\n",
    "y_pred = passive_aggressive.predict(testX).reshape(2000,)\n",
    "\n",
    "print(\"Cross validation mean score:\", cross_val_score(passive_aggressive, X, Y_train, cv=5).mean())\n",
    "y_pred"
   ]
  },
  {
   "cell_type": "markdown",
   "metadata": {},
   "source": [
    "### ARDRegression\n",
    "Kaggle public test score: 0.45476 👇"
   ]
  },
  {
   "cell_type": "code",
   "execution_count": null,
   "metadata": {},
   "outputs": [],
   "source": [
    "from sklearn.linear_model import ARDRegression\n",
    "\n",
    "X = poly.fit_transform(X_train)\n",
    "testX = poly.fit_transform(X_test)\n",
    "\n",
    "ard = ARDRegression(n_iter=50)\n",
    "ard.fit(X, Y_train)\n",
    "y_pred = ard.predict(testX).reshape(2000,)\n",
    "\n",
    "print(cross_val_score(ard, X, Y_train, cv=5).mean())\n",
    "y_pred"
   ]
  },
  {
   "cell_type": "markdown",
   "metadata": {},
   "source": [
    "### Elastic Net\n",
    "Kaggle public test score: 0.46244 👇"
   ]
  },
  {
   "cell_type": "code",
   "execution_count": null,
   "metadata": {},
   "outputs": [],
   "source": [
    "from sklearn.linear_model import ElasticNet\n",
    "\n",
    "X = poly.fit_transform(X_train)\n",
    "testX = poly.fit_transform(X_test)\n",
    "elastic = ElasticNet(max_iter=5000)\n",
    "\n",
    "distributions = {\n",
    "    'alpha': uniform(),\n",
    "    'l1_ratio': uniform(),\n",
    "}\n",
    "\n",
    "rand_search = RandomizedSearchCV(elastic, distributions, n_iter=10, cv=5)\n",
    "search_result = rand_search.fit(X, Y_train)\n",
    "\n",
    "print('Best found parameters:', search_result.best_params_)\n",
    "print('Best found score:', search_result.best_score_)\n",
    "\n",
    "elastic.set_params(**search_result.best_params_)\n",
    "elastic.fit(X, Y_train)\n",
    "y_pred = elastic.predict(testX).reshape(2000,)\n",
    "\n",
    "print(\"Cross validation mean score:\", cross_val_score(elastic, X, Y_train, cv=5).mean())\n",
    "y_pred"
   ]
  },
  {
   "cell_type": "markdown",
   "metadata": {},
   "source": [
    "### ElasticNetCV\n",
    "Kaggle public test score: 0.45422 👇"
   ]
  },
  {
   "cell_type": "code",
   "execution_count": null,
   "metadata": {},
   "outputs": [],
   "source": [
    "from sklearn.linear_model import ElasticNetCV\n",
    "\n",
    "X = poly.fit_transform(X_train)\n",
    "testX = poly.fit_transform(X_test)\n",
    "elastic_cv = ElasticNetCV(n_alphas=200, max_iter=5000)\n",
    "\n",
    "distributions = {\n",
    "    'l1_ratio': uniform(0, 1),\n",
    "    'eps': uniform(1e-8, 1e-1),\n",
    "    'tol': uniform(1e-8, 1e-3),\n",
    "}\n",
    "\n",
    "rand_search = RandomizedSearchCV(elastic_cv, distributions, n_iter=100, cv=2)\n",
    "search_result = rand_search.fit(X, Y_train)\n",
    "\n",
    "print('Best found parameters:', search_result.best_params_)\n",
    "print('Best found score:', search_result.best_score_)\n",
    "\n",
    "elastic_cv.set_params(**search_result.best_params_)\n",
    "elastic_cv.fit(X, Y_train)\n",
    "y_pred = elastic_cv.predict(testX).reshape(2000,)\n",
    "\n",
    "print(\"Cross validation mean score:\", cross_val_score(elastic_cv, X, Y_train, cv=5).mean())\n",
    "y_pred"
   ]
  },
  {
   "cell_type": "markdown",
   "metadata": {},
   "source": [
    "### HuberRegressor\n",
    "Kaggle public test score: 0.45547 👇"
   ]
  },
  {
   "cell_type": "code",
   "execution_count": null,
   "metadata": {},
   "outputs": [],
   "source": [
    "from sklearn.linear_model import HuberRegressor\n",
    "\n",
    "X = poly.fit_transform(X_train)\n",
    "testX = poly.fit_transform(X_test)\n",
    "huber = HuberRegressor(max_iter=5000)\n",
    "\n",
    "distributions = {\n",
    "    'epsilon': uniform(1, 2),\n",
    "    'alpha': uniform(1e-8, 1e-2),\n",
    "    'tol': uniform(1e-8, 1e-3),\n",
    "}\n",
    "\n",
    "rand_search = RandomizedSearchCV(huber, distributions, n_iter=20, cv=5)\n",
    "search_result = rand_search.fit(X, Y_train)\n",
    "\n",
    "print('Best found parameters:', search_result.best_params_)\n",
    "print('Best found score:', search_result.best_score_)\n",
    "\n",
    "huber.set_params(**search_result.best_params_)\n",
    "huber.fit(X, Y_train)\n",
    "y_pred = huber.predict(testX).reshape(2000,)\n",
    "\n",
    "print(\"Cross validation mean score:\", cross_val_score(huber, X, Y_train, cv=5).mean())\n",
    "y_pred"
   ]
  },
  {
   "cell_type": "markdown",
   "metadata": {},
   "source": [
    "### Writing to file"
   ]
  },
  {
   "cell_type": "code",
   "execution_count": null,
   "metadata": {},
   "outputs": [],
   "source": [
    "Y_predicted = pd.DataFrame({'Value': y_pred, 'Id': range(len(y_pred))})\n",
    "Y_predicted.to_csv('notebook_data/mullagaliev_amir.csv', index=False)"
   ]
  }
 ],
 "metadata": {
  "language_info": {
   "codemirror_mode": {
    "name": "ipython",
    "version": 3
   },
   "file_extension": ".py",
   "mimetype": "text/x-python",
   "name": "python",
   "nbconvert_exporter": "python",
   "pygments_lexer": "ipython3",
   "version": "3.8.2-final"
  },
  "orig_nbformat": 2,
  "kernelspec": {
   "name": "python38264bitvenvvenva64740cbe7174c8b8611c14d02cb3795",
   "display_name": "Python 3.8.2 64-bit ('venv': venv)"
  }
 },
 "nbformat": 4,
 "nbformat_minor": 2
}