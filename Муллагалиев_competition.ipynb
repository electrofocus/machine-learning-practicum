{
 "cells": [
  {
   "cell_type": "code",
   "execution_count": 39,
   "metadata": {},
   "outputs": [],
   "source": [
    "import pandas as pd\n",
    "import numpy as np\n",
    "\n",
    "from scipy.stats import uniform\n",
    "\n",
    "from sklearn.linear_model import ElasticNet, PassiveAggressiveRegressor, LinearRegression, ARDRegression\n",
    "from sklearn.preprocessing import PolynomialFeatures\n",
    "from sklearn.model_selection import KFold, cross_val_score, RandomizedSearchCV\n",
    "from sklearn.metrics import r2_score"
   ]
  },
  {
   "cell_type": "markdown",
   "metadata": {},
   "source": [
    "Uploading competition data"
   ]
  },
  {
   "cell_type": "code",
   "execution_count": 2,
   "metadata": {},
   "outputs": [],
   "source": [
    "X_train = pd.read_csv(\"competition_data/trainX.csv\", index_col = 'Id').to_numpy()\n",
    "Y_train = pd.read_csv(\"competition_data/trainY.csv\", index_col = 'Id').Value.to_numpy()\n",
    "X_test = pd.read_csv(\"competition_data/testX.csv\", index_col = 'Id').to_numpy()"
   ]
  },
  {
   "cell_type": "markdown",
   "metadata": {},
   "source": [
    "Definition of PolynomialFeatures"
   ]
  },
  {
   "cell_type": "code",
   "execution_count": 3,
   "metadata": {},
   "outputs": [],
   "source": [
    "poly = PolynomialFeatures(2)"
   ]
  },
  {
   "cell_type": "markdown",
   "metadata": {},
   "source": [
    "Using RandomizedSearchCV to fit hyperparameters"
   ]
  },
  {
   "cell_type": "code",
   "execution_count": 7,
   "metadata": {},
   "outputs": [
    {
     "name": "stdout",
     "output_type": "stream",
     "text": [
      "Best parameters: {'alpha': 0.012378390195448508, 'l1_ratio': 0.6553692385314868}\n",
      "Best parameters: 0.3871080602337083\n"
     ]
    }
   ],
   "source": [
    "X = poly.fit_transform(X_train)\n",
    "elastic = ElasticNet(max_iter=10000)\n",
    "\n",
    "distributions = {\n",
    "    'alpha': uniform(),\n",
    "    'l1_ratio': uniform(),\n",
    "}\n",
    "\n",
    "rand_search = RandomizedSearchCV(elastic, distributions, n_iter=100, cv=5)\n",
    "search_result = rand_search.fit(X, Y_train)\n",
    "\n",
    "print('Best parameters:', search_result.best_params_)\n",
    "print('Best parameters:', search_result.best_score_)\n",
    "\n",
    "elastic_rand_search_prm = search_result.best_params_"
   ]
  },
  {
   "cell_type": "code",
   "execution_count": 8,
   "metadata": {},
   "outputs": [
    {
     "name": "stdout",
     "output_type": "stream",
     "text": [
      "Best parameters: {'C': 0.008766832563621152, 'epsilon': 0.03312366582829205, 'tol': 0.0010000000266718165}\n",
      "Best parameters: 0.3151735931348718\n"
     ]
    }
   ],
   "source": [
    "X = poly.fit_transform(X_train)\n",
    "passive_aggressive = PassiveAggressiveRegressor(max_iter=5000, random_state=0)\n",
    "\n",
    "distributions = {\n",
    "    'C': uniform(loc=0, scale=0.1),\n",
    "    'epsilon': uniform(loc=0, scale=0.1),\n",
    "    'tol': uniform(1e-3, 1e-10),\n",
    "}\n",
    "\n",
    "rand_search = RandomizedSearchCV(passive_aggressive, distributions, n_iter=100, cv=5)\n",
    "search_result = rand_search.fit(X, Y_train)\n",
    "\n",
    "print('Best parameters:', search_result.best_params_)\n",
    "print('Best parameters:', search_result.best_score_)\n",
    "\n",
    "passive_aggressive_rand_search_prm = search_result.best_params_"
   ]
  },
  {
   "cell_type": "code",
   "execution_count": 44,
   "metadata": {},
   "outputs": [
    {
     "name": "stdout",
     "output_type": "stream",
     "text": [
      "Best parameters: {'alpha_1': 0.10000000000097219, 'alpha_2': 0.1000000000021046, 'lambda_1': 0.1000000000053792, 'lambda_2': 0.1000000000082386, 'tol': 0.010004695408376181}\n",
      "Best parameters: 0.3252779132921292\n"
     ]
    }
   ],
   "source": [
    "X = poly.fit_transform(X_train)\n",
    "ard = ARDRegression(n_iter=300)\n",
    "\n",
    "distributions = {\n",
    "    'tol': uniform(1e-2, 1e-5),\n",
    "    'alpha_1': uniform(1e-1, 1e-11),\n",
    "    'alpha_2': uniform(1e-1, 1e-11),\n",
    "    'lambda_1': uniform(1e-1, 1e-11),\n",
    "    'lambda_2': uniform(1e-1, 1e-11),\n",
    "    'lambda_1': uniform(1e-1, 1e-11),\n",
    "}\n",
    "\n",
    "rand_search = RandomizedSearchCV(ard, distributions, n_iter=2, cv=5)\n",
    "search_result = rand_search.fit(X, Y_train)\n",
    "\n",
    "print('Best parameters:', search_result.best_params_)\n",
    "print('Best parameters:', search_result.best_score_)\n",
    "\n",
    "ard_rand_search_prm = search_result.best_params_"
   ]
  },
  {
   "cell_type": "markdown",
   "metadata": {},
   "source": [
    "PassiveAggressiveRegressor, Kaggle public test score: 0.64698 👇"
   ]
  },
  {
   "cell_type": "code",
   "execution_count": 31,
   "metadata": {},
   "outputs": [
    {
     "name": "stdout",
     "output_type": "stream",
     "text": [
      "-0.9277521496759714\n"
     ]
    },
    {
     "data": {
      "text/plain": [
       "array([19.72246023, 34.83825565, 29.16675255, ..., 26.77971688,\n",
       "       32.18134777, 29.75120905])"
      ]
     },
     "execution_count": 31,
     "metadata": {},
     "output_type": "execute_result"
    }
   ],
   "source": [
    "X = poly.fit_transform(X_train)\n",
    "testX = poly.fit_transform(X_test)\n",
    "\n",
    "passive_aggressive = PassiveAggressiveRegressor(max_iter=100, random_state=0)\n",
    "passive_aggressive.fit(X, Y_train)\n",
    "y_pred = passive_aggressive.predict(testX).reshape(2000,)\n",
    "\n",
    "print(cross_val_score(passive_aggressive, X, Y_train, cv=5).mean())\n",
    "y_pred"
   ]
  },
  {
   "cell_type": "markdown",
   "metadata": {},
   "source": [
    "LinearRegression, Kaggle public test score: 0.43746 👇"
   ]
  },
  {
   "cell_type": "code",
   "execution_count": 32,
   "metadata": {},
   "outputs": [
    {
     "name": "stdout",
     "output_type": "stream",
     "text": [
      "0.30151623990826026\n"
     ]
    },
    {
     "data": {
      "text/plain": [
       "array([23.95507812, 32.609375  , 27.62890625, ..., 23.5703125 ,\n",
       "       28.68359375, 27.41992188])"
      ]
     },
     "execution_count": 32,
     "metadata": {},
     "output_type": "execute_result"
    }
   ],
   "source": [
    "X = poly.fit_transform(X_train)\n",
    "testX = poly.fit_transform(X_test)\n",
    "\n",
    "linear = LinearRegression()\n",
    "linear.fit(X, Y_train)\n",
    "y_pred = linear.predict(testX).reshape(2000,)\n",
    "\n",
    "print(cross_val_score(linear, X, Y_train, cv=5).mean())\n",
    "y_pred"
   ]
  },
  {
   "cell_type": "markdown",
   "metadata": {},
   "source": [
    "Elastic Net, Kaggle public test score: 0.46244 👇"
   ]
  },
  {
   "cell_type": "code",
   "execution_count": 37,
   "metadata": {},
   "outputs": [
    {
     "name": "stdout",
     "output_type": "stream",
     "text": [
      "0.3871080602337083\n"
     ]
    },
    {
     "data": {
      "text/plain": [
       "array([26.85105463, 32.00113497, 29.36732264, ..., 26.85124476,\n",
       "       28.5933084 , 28.28644156])"
      ]
     },
     "execution_count": 37,
     "metadata": {},
     "output_type": "execute_result"
    }
   ],
   "source": [
    "X = poly.fit_transform(X_train)\n",
    "testX = poly.fit_transform(X_test)\n",
    "\n",
    "elastic = ElasticNet(max_iter=5000, **elastic_rand_search_prm)\n",
    "elastic.fit(X, Y_train)\n",
    "y_pred = elastic.predict(testX).reshape(2000,)\n",
    "\n",
    "print(cross_val_score(elastic, X, Y_train, cv=5).mean())\n",
    "y_pred"
   ]
  },
  {
   "cell_type": "markdown",
   "metadata": {},
   "source": [
    "ARDRegression"
   ]
  },
  {
   "cell_type": "code",
   "execution_count": 45,
   "metadata": {},
   "outputs": [
    {
     "ename": "KeyboardInterrupt",
     "evalue": "",
     "output_type": "error",
     "traceback": [
      "\u001b[1;31m---------------------------------------------------------------------------\u001b[0m",
      "\u001b[1;31mKeyboardInterrupt\u001b[0m                         Traceback (most recent call last)",
      "\u001b[1;32m<ipython-input-45-d1d5e6c41ef2>\u001b[0m in \u001b[0;36m<module>\u001b[1;34m\u001b[0m\n\u001b[0;32m      3\u001b[0m \u001b[1;33m\u001b[0m\u001b[0m\n\u001b[0;32m      4\u001b[0m \u001b[0mard\u001b[0m \u001b[1;33m=\u001b[0m \u001b[0mARDRegression\u001b[0m\u001b[1;33m(\u001b[0m\u001b[0mn_iter\u001b[0m\u001b[1;33m=\u001b[0m\u001b[1;36m5000\u001b[0m\u001b[1;33m)\u001b[0m\u001b[1;33m\u001b[0m\u001b[1;33m\u001b[0m\u001b[0m\n\u001b[1;32m----> 5\u001b[1;33m \u001b[0mard\u001b[0m\u001b[1;33m.\u001b[0m\u001b[0mfit\u001b[0m\u001b[1;33m(\u001b[0m\u001b[0mX\u001b[0m\u001b[1;33m,\u001b[0m \u001b[0mY_train\u001b[0m\u001b[1;33m)\u001b[0m\u001b[1;33m\u001b[0m\u001b[1;33m\u001b[0m\u001b[0m\n\u001b[0m\u001b[0;32m      6\u001b[0m \u001b[0my_pred\u001b[0m \u001b[1;33m=\u001b[0m \u001b[0mard\u001b[0m\u001b[1;33m.\u001b[0m\u001b[0mpredict\u001b[0m\u001b[1;33m(\u001b[0m\u001b[0mtestX\u001b[0m\u001b[1;33m)\u001b[0m\u001b[1;33m.\u001b[0m\u001b[0mreshape\u001b[0m\u001b[1;33m(\u001b[0m\u001b[1;36m2000\u001b[0m\u001b[1;33m,\u001b[0m\u001b[1;33m)\u001b[0m\u001b[1;33m\u001b[0m\u001b[1;33m\u001b[0m\u001b[0m\n\u001b[0;32m      7\u001b[0m \u001b[1;33m\u001b[0m\u001b[0m\n",
      "\u001b[1;32md:\\code\\python\\machine-learning-practicum\\venv\\lib\\site-packages\\sklearn\\linear_model\\_bayes.py\u001b[0m in \u001b[0;36mfit\u001b[1;34m(self, X, y)\u001b[0m\n\u001b[0;32m    575\u001b[0m         \u001b[1;31m# Iterative procedure of ARDRegression\u001b[0m\u001b[1;33m\u001b[0m\u001b[1;33m\u001b[0m\u001b[1;33m\u001b[0m\u001b[0m\n\u001b[0;32m    576\u001b[0m         \u001b[1;32mfor\u001b[0m \u001b[0miter_\u001b[0m \u001b[1;32min\u001b[0m \u001b[0mrange\u001b[0m\u001b[1;33m(\u001b[0m\u001b[0mself\u001b[0m\u001b[1;33m.\u001b[0m\u001b[0mn_iter\u001b[0m\u001b[1;33m)\u001b[0m\u001b[1;33m:\u001b[0m\u001b[1;33m\u001b[0m\u001b[1;33m\u001b[0m\u001b[0m\n\u001b[1;32m--> 577\u001b[1;33m             \u001b[0msigma_\u001b[0m \u001b[1;33m=\u001b[0m \u001b[0mupdate_sigma\u001b[0m\u001b[1;33m(\u001b[0m\u001b[0mX\u001b[0m\u001b[1;33m,\u001b[0m \u001b[0malpha_\u001b[0m\u001b[1;33m,\u001b[0m \u001b[0mlambda_\u001b[0m\u001b[1;33m,\u001b[0m \u001b[0mkeep_lambda\u001b[0m\u001b[1;33m,\u001b[0m \u001b[0mn_samples\u001b[0m\u001b[1;33m)\u001b[0m\u001b[1;33m\u001b[0m\u001b[1;33m\u001b[0m\u001b[0m\n\u001b[0m\u001b[0;32m    578\u001b[0m             \u001b[0mcoef_\u001b[0m \u001b[1;33m=\u001b[0m \u001b[0mupdate_coeff\u001b[0m\u001b[1;33m(\u001b[0m\u001b[0mX\u001b[0m\u001b[1;33m,\u001b[0m \u001b[0my\u001b[0m\u001b[1;33m,\u001b[0m \u001b[0mcoef_\u001b[0m\u001b[1;33m,\u001b[0m \u001b[0malpha_\u001b[0m\u001b[1;33m,\u001b[0m \u001b[0mkeep_lambda\u001b[0m\u001b[1;33m,\u001b[0m \u001b[0msigma_\u001b[0m\u001b[1;33m)\u001b[0m\u001b[1;33m\u001b[0m\u001b[1;33m\u001b[0m\u001b[0m\n\u001b[0;32m    579\u001b[0m \u001b[1;33m\u001b[0m\u001b[0m\n",
      "\u001b[1;32md:\\code\\python\\machine-learning-practicum\\venv\\lib\\site-packages\\sklearn\\linear_model\\_bayes.py\u001b[0m in \u001b[0;36mupdate_sigma\u001b[1;34m(X, alpha_, lambda_, keep_lambda, n_samples)\u001b[0m\n\u001b[0;32m    557\u001b[0m         \u001b[1;31m# Compute sigma and mu (using Woodbury matrix identity)\u001b[0m\u001b[1;33m\u001b[0m\u001b[1;33m\u001b[0m\u001b[1;33m\u001b[0m\u001b[0m\n\u001b[0;32m    558\u001b[0m         \u001b[1;32mdef\u001b[0m \u001b[0mupdate_sigma\u001b[0m\u001b[1;33m(\u001b[0m\u001b[0mX\u001b[0m\u001b[1;33m,\u001b[0m \u001b[0malpha_\u001b[0m\u001b[1;33m,\u001b[0m \u001b[0mlambda_\u001b[0m\u001b[1;33m,\u001b[0m \u001b[0mkeep_lambda\u001b[0m\u001b[1;33m,\u001b[0m \u001b[0mn_samples\u001b[0m\u001b[1;33m)\u001b[0m\u001b[1;33m:\u001b[0m\u001b[1;33m\u001b[0m\u001b[1;33m\u001b[0m\u001b[0m\n\u001b[1;32m--> 559\u001b[1;33m             sigma_ = pinvh(np.eye(n_samples) / alpha_ +\n\u001b[0m\u001b[0;32m    560\u001b[0m                            np.dot(X[:, keep_lambda] *\n\u001b[0;32m    561\u001b[0m                            \u001b[0mnp\u001b[0m\u001b[1;33m.\u001b[0m\u001b[0mreshape\u001b[0m\u001b[1;33m(\u001b[0m\u001b[1;36m1.\u001b[0m \u001b[1;33m/\u001b[0m \u001b[0mlambda_\u001b[0m\u001b[1;33m[\u001b[0m\u001b[0mkeep_lambda\u001b[0m\u001b[1;33m]\u001b[0m\u001b[1;33m,\u001b[0m \u001b[1;33m[\u001b[0m\u001b[1;36m1\u001b[0m\u001b[1;33m,\u001b[0m \u001b[1;33m-\u001b[0m\u001b[1;36m1\u001b[0m\u001b[1;33m]\u001b[0m\u001b[1;33m)\u001b[0m\u001b[1;33m,\u001b[0m\u001b[1;33m\u001b[0m\u001b[1;33m\u001b[0m\u001b[0m\n",
      "\u001b[1;32md:\\code\\python\\machine-learning-practicum\\venv\\lib\\site-packages\\sklearn\\externals\\_scipy_linalg.py\u001b[0m in \u001b[0;36mpinvh\u001b[1;34m(a, cond, rcond, lower, return_rank, check_finite)\u001b[0m\n\u001b[0;32m     97\u001b[0m     \"\"\"\n\u001b[0;32m     98\u001b[0m     \u001b[0ma\u001b[0m \u001b[1;33m=\u001b[0m \u001b[0mdecomp\u001b[0m\u001b[1;33m.\u001b[0m\u001b[0m_asarray_validated\u001b[0m\u001b[1;33m(\u001b[0m\u001b[0ma\u001b[0m\u001b[1;33m,\u001b[0m \u001b[0mcheck_finite\u001b[0m\u001b[1;33m=\u001b[0m\u001b[0mcheck_finite\u001b[0m\u001b[1;33m)\u001b[0m\u001b[1;33m\u001b[0m\u001b[1;33m\u001b[0m\u001b[0m\n\u001b[1;32m---> 99\u001b[1;33m     \u001b[0ms\u001b[0m\u001b[1;33m,\u001b[0m \u001b[0mu\u001b[0m \u001b[1;33m=\u001b[0m \u001b[0mdecomp\u001b[0m\u001b[1;33m.\u001b[0m\u001b[0meigh\u001b[0m\u001b[1;33m(\u001b[0m\u001b[0ma\u001b[0m\u001b[1;33m,\u001b[0m \u001b[0mlower\u001b[0m\u001b[1;33m=\u001b[0m\u001b[0mlower\u001b[0m\u001b[1;33m,\u001b[0m \u001b[0mcheck_finite\u001b[0m\u001b[1;33m=\u001b[0m\u001b[1;32mFalse\u001b[0m\u001b[1;33m)\u001b[0m\u001b[1;33m\u001b[0m\u001b[1;33m\u001b[0m\u001b[0m\n\u001b[0m\u001b[0;32m    100\u001b[0m \u001b[1;33m\u001b[0m\u001b[0m\n\u001b[0;32m    101\u001b[0m     \u001b[1;32mif\u001b[0m \u001b[0mrcond\u001b[0m \u001b[1;32mis\u001b[0m \u001b[1;32mnot\u001b[0m \u001b[1;32mNone\u001b[0m\u001b[1;33m:\u001b[0m\u001b[1;33m\u001b[0m\u001b[1;33m\u001b[0m\u001b[0m\n",
      "\u001b[1;32md:\\code\\python\\machine-learning-practicum\\venv\\lib\\site-packages\\scipy\\linalg\\decomp.py\u001b[0m in \u001b[0;36meigh\u001b[1;34m(a, b, lower, eigvals_only, overwrite_a, overwrite_b, turbo, eigvals, type, check_finite)\u001b[0m\n\u001b[0;32m    429\u001b[0m         \u001b[1;33m(\u001b[0m\u001b[0mevr\u001b[0m\u001b[1;33m,\u001b[0m\u001b[1;33m)\u001b[0m \u001b[1;33m=\u001b[0m \u001b[0mget_lapack_funcs\u001b[0m\u001b[1;33m(\u001b[0m\u001b[1;33m(\u001b[0m\u001b[0mdriver\u001b[0m\u001b[1;33m,\u001b[0m\u001b[1;33m)\u001b[0m\u001b[1;33m,\u001b[0m \u001b[1;33m(\u001b[0m\u001b[0ma1\u001b[0m\u001b[1;33m,\u001b[0m\u001b[1;33m)\u001b[0m\u001b[1;33m)\u001b[0m\u001b[1;33m\u001b[0m\u001b[1;33m\u001b[0m\u001b[0m\n\u001b[0;32m    430\u001b[0m         \u001b[1;32mif\u001b[0m \u001b[0meigvals\u001b[0m \u001b[1;32mis\u001b[0m \u001b[1;32mNone\u001b[0m\u001b[1;33m:\u001b[0m\u001b[1;33m\u001b[0m\u001b[1;33m\u001b[0m\u001b[0m\n\u001b[1;32m--> 431\u001b[1;33m             w, v, info = evr(a1, uplo=uplo, jobz=_job, range=\"A\", il=1,\n\u001b[0m\u001b[0;32m    432\u001b[0m                              iu=a1.shape[0], overwrite_a=overwrite_a)\n\u001b[0;32m    433\u001b[0m         \u001b[1;32melse\u001b[0m\u001b[1;33m:\u001b[0m\u001b[1;33m\u001b[0m\u001b[1;33m\u001b[0m\u001b[0m\n",
      "\u001b[1;31mKeyboardInterrupt\u001b[0m: "
     ]
    }
   ],
   "source": [
    "X = poly.fit_transform(X_train)\n",
    "testX = poly.fit_transform(X_test)\n",
    "\n",
    "ard = ARDRegression(n_iter=5000)\n",
    "ard.fit(X, Y_train)\n",
    "y_pred = ard.predict(testX).reshape(2000,)\n",
    "\n",
    "print(cross_val_score(ard, X, Y_train, cv=5).mean())\n",
    "y_pred"
   ]
  },
  {
   "cell_type": "markdown",
   "metadata": {},
   "source": [
    "Writing to file"
   ]
  },
  {
   "cell_type": "code",
   "execution_count": null,
   "metadata": {},
   "outputs": [],
   "source": [
    "Y_predicted = pd.DataFrame({'Value': y_pred, 'Id': range(len(y_pred))})\n",
    "Y_predicted.to_csv('mullagaliev_amir.csv', index=False)\n",
    "print(Y_predicted)"
   ]
  }
 ],
 "metadata": {
  "kernelspec": {
   "display_name": "Python 3",
   "language": "python",
   "name": "python3"
  },
  "language_info": {
   "codemirror_mode": {
    "name": "ipython",
    "version": 3
   },
   "file_extension": ".py",
   "mimetype": "text/x-python",
   "name": "python",
   "nbconvert_exporter": "python",
   "pygments_lexer": "ipython3",
   "version": "3.8.2"
  }
 },
 "nbformat": 4,
 "nbformat_minor": 4
}
